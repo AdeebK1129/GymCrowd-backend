{
 "cells": [
  {
   "cell_type": "code",
   "execution_count": 1,
   "metadata": {},
   "outputs": [],
   "source": [
    "# Import necessary libraries\n",
    "import os\n",
    "import django\n",
    "import pandas as pd"
   ]
  },
  {
   "cell_type": "code",
   "execution_count": 2,
   "metadata": {},
   "outputs": [],
   "source": [
    "os.chdir(\"..\")  # Adjust the path to point to the root of your project\n",
    "os.environ.setdefault('DJANGO_SETTINGS_MODULE', 'gymcrowd.settings')\n",
    "os.environ[\"DJANGO_ALLOW_ASYNC_UNSAFE\"] = \"true\"\n",
    "django.setup()"
   ]
  },
  {
   "cell_type": "code",
   "execution_count": 3,
   "metadata": {},
   "outputs": [],
   "source": [
    "from apps.gyms.models import Gym"
   ]
  },
  {
   "cell_type": "code",
   "execution_count": 4,
   "metadata": {},
   "outputs": [],
   "source": [
    "gym_data = [\n",
    "    {\n",
    "        \"name\": \"Helen Newman Fitness Center\",\n",
    "        \"location\": \"163 Cradit Farm Dr, Ithaca, NY 14850\",\n",
    "        \"type\": \"Fitness\",\n",
    "    },\n",
    "    {\n",
    "        \"name\": \"Noyes Fitness Center\",\n",
    "        \"location\": \"306 West Ave, Ithaca, NY 14850\",\n",
    "        \"type\": \"Fitness\",\n",
    "    },\n",
    "    {\n",
    "        \"name\": \"Teagle Down Fitness Center\",\n",
    "        \"location\": \"512 Campus Rd, Ithaca, NY 14853\",\n",
    "        \"type\": \"Fitness\",\n",
    "    },\n",
    "    {\n",
    "        \"name\": \"Teagle Up Fitness Center\",\n",
    "        \"location\": \"512 Campus Rd, Ithaca, NY 14853\",\n",
    "        \"type\": \"Fitness\",\n",
    "    },\n",
    "    {\n",
    "        \"name\": \"Toni Morrison Fitness Center\",\n",
    "        \"location\": \"18 Sisson Pl, Ithaca, NY 14850\",\n",
    "        \"type\": \"Fitness\",\n",
    "    },\n",
    "        {\n",
    "        \"name\": \"HNH Court 1 Basketball\",\n",
    "        \"location\": \"163 Cradit Farm Dr, Ithaca, NY 14850\",\n",
    "        \"type\": \"Fitness\",\n",
    "    },\n",
    "        {\n",
    "        \"name\": \"HNH Court 2 Volleyball/Badminton\",\n",
    "        \"location\": \"163 Cradit Farm Dr, Ithaca, NY 14850\",\n",
    "        \"type\": \"Fitness\",\n",
    "    },\n",
    "        {\n",
    "        \"name\": \"Noyes Court Basketball\",\n",
    "        \"location\": \"306 West Ave, Ithaca, NY 14850\",\n",
    "        \"type\": \"Fitness\",\n",
    "    }\n",
    "]\n"
   ]
  },
  {
   "cell_type": "code",
   "execution_count": 5,
   "metadata": {},
   "outputs": [
    {
     "name": "stdout",
     "output_type": "stream",
     "text": [
      "Loaded 8 gyms from the dataset.\n"
     ]
    },
    {
     "data": {
      "text/html": [
       "<div>\n",
       "<style scoped>\n",
       "    .dataframe tbody tr th:only-of-type {\n",
       "        vertical-align: middle;\n",
       "    }\n",
       "\n",
       "    .dataframe tbody tr th {\n",
       "        vertical-align: top;\n",
       "    }\n",
       "\n",
       "    .dataframe thead th {\n",
       "        text-align: right;\n",
       "    }\n",
       "</style>\n",
       "<table border=\"1\" class=\"dataframe\">\n",
       "  <thead>\n",
       "    <tr style=\"text-align: right;\">\n",
       "      <th></th>\n",
       "      <th>name</th>\n",
       "      <th>location</th>\n",
       "      <th>type</th>\n",
       "    </tr>\n",
       "  </thead>\n",
       "  <tbody>\n",
       "    <tr>\n",
       "      <th>0</th>\n",
       "      <td>Helen Newman Fitness Center</td>\n",
       "      <td>163 Cradit Farm Dr, Ithaca, NY 14850</td>\n",
       "      <td>Fitness</td>\n",
       "    </tr>\n",
       "    <tr>\n",
       "      <th>1</th>\n",
       "      <td>Noyes Fitness Center</td>\n",
       "      <td>306 West Ave, Ithaca, NY 14850</td>\n",
       "      <td>Fitness</td>\n",
       "    </tr>\n",
       "    <tr>\n",
       "      <th>2</th>\n",
       "      <td>Teagle Down Fitness Center</td>\n",
       "      <td>512 Campus Rd, Ithaca, NY 14853</td>\n",
       "      <td>Fitness</td>\n",
       "    </tr>\n",
       "    <tr>\n",
       "      <th>3</th>\n",
       "      <td>Teagle Up Fitness Center</td>\n",
       "      <td>512 Campus Rd, Ithaca, NY 14853</td>\n",
       "      <td>Fitness</td>\n",
       "    </tr>\n",
       "    <tr>\n",
       "      <th>4</th>\n",
       "      <td>Toni Morrison Fitness Center</td>\n",
       "      <td>18 Sisson Pl, Ithaca, NY 14850</td>\n",
       "      <td>Fitness</td>\n",
       "    </tr>\n",
       "  </tbody>\n",
       "</table>\n",
       "</div>"
      ],
      "text/plain": [
       "                           name                              location     type\n",
       "0   Helen Newman Fitness Center  163 Cradit Farm Dr, Ithaca, NY 14850  Fitness\n",
       "1          Noyes Fitness Center        306 West Ave, Ithaca, NY 14850  Fitness\n",
       "2    Teagle Down Fitness Center       512 Campus Rd, Ithaca, NY 14853  Fitness\n",
       "3      Teagle Up Fitness Center       512 Campus Rd, Ithaca, NY 14853  Fitness\n",
       "4  Toni Morrison Fitness Center        18 Sisson Pl, Ithaca, NY 14850  Fitness"
      ]
     },
     "execution_count": 5,
     "metadata": {},
     "output_type": "execute_result"
    }
   ],
   "source": [
    "df = pd.DataFrame(gym_data)\n",
    "print(f\"Loaded {len(df)} gyms from the dataset.\")\n",
    "df.head()"
   ]
  },
  {
   "cell_type": "code",
   "execution_count": 6,
   "metadata": {},
   "outputs": [],
   "source": [
    "existing_gyms = set(Gym.objects.values_list('name', flat=True))"
   ]
  },
  {
   "cell_type": "code",
   "execution_count": 7,
   "metadata": {},
   "outputs": [
    {
     "name": "stdout",
     "output_type": "stream",
     "text": [
      "Existing gyms: 0\n",
      "New gyms: 8\n"
     ]
    }
   ],
   "source": [
    "# Split data into new and existing records\n",
    "df_existing = df[df['name'].isin(existing_gyms)]\n",
    "df_new = df[~df['name'].isin(existing_gyms)]\n",
    "\n",
    "print(f\"Existing gyms: {len(df_existing)}\")\n",
    "print(f\"New gyms: {len(df_new)}\")\n"
   ]
  },
  {
   "cell_type": "code",
   "execution_count": 8,
   "metadata": {},
   "outputs": [
    {
     "name": "stdout",
     "output_type": "stream",
     "text": [
      "Updated existing gyms.\n"
     ]
    }
   ],
   "source": [
    "for _, row in df_existing.iterrows():\n",
    "    Gym.objects.filter(name=row['name']).update(\n",
    "        location=row['location'],\n",
    "        type=row['type'],\n",
    "    )\n",
    "print(\"Updated existing gyms.\")"
   ]
  },
  {
   "cell_type": "code",
   "execution_count": 9,
   "metadata": {},
   "outputs": [
    {
     "name": "stdout",
     "output_type": "stream",
     "text": [
      "Inserted 8 new gyms.\n"
     ]
    }
   ],
   "source": [
    "# Bulk insert new gyms\n",
    "new_records = [\n",
    "    Gym(\n",
    "        name=row['name'],\n",
    "        location=row['location'],\n",
    "        type=row['type'],\n",
    "    )\n",
    "    for _, row in df_new.iterrows()\n",
    "]\n",
    "Gym.objects.bulk_create(new_records, batch_size=500)\n",
    "\n",
    "print(f\"Inserted {len(new_records)} new gyms.\")\n"
   ]
  },
  {
   "cell_type": "code",
   "execution_count": 10,
   "metadata": {},
   "outputs": [
    {
     "name": "stdout",
     "output_type": "stream",
     "text": [
      "Total gyms in the database: 8\n"
     ]
    },
    {
     "data": {
      "text/plain": [
       "<QuerySet [<Gym: Helen Newman Fitness Center>, <Gym: Noyes Fitness Center>, <Gym: Teagle Down Fitness Center>, <Gym: Teagle Up Fitness Center>, <Gym: Toni Morrison Fitness Center>]>"
      ]
     },
     "execution_count": 10,
     "metadata": {},
     "output_type": "execute_result"
    }
   ],
   "source": [
    "# Verify the database content\n",
    "total_gyms = Gym.objects.count()\n",
    "print(f\"Total gyms in the database: {total_gyms}\")\n",
    "\n",
    "# Display some records from the database\n",
    "Gym.objects.all()[:5]  # Display the first 5 records"
   ]
  }
 ],
 "metadata": {
  "kernelspec": {
   "display_name": "venv",
   "language": "python",
   "name": "python3"
  },
  "language_info": {
   "codemirror_mode": {
    "name": "ipython",
    "version": 3
   },
   "file_extension": ".py",
   "mimetype": "text/x-python",
   "name": "python",
   "nbconvert_exporter": "python",
   "pygments_lexer": "ipython3",
   "version": "3.12.4"
  },
  "orig_nbformat": 4
 },
 "nbformat": 4,
 "nbformat_minor": 2
}
