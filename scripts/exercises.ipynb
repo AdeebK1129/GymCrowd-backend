{
 "cells": [
  {
   "cell_type": "code",
   "execution_count": null,
   "metadata": {},
   "outputs": [],
   "source": [
    "# Import necessary libraries\n",
    "import os\n",
    "import django\n",
    "import pandas as pd\n",
    "import json"
   ]
  },
  {
   "cell_type": "code",
   "execution_count": null,
   "metadata": {},
   "outputs": [],
   "source": [
    "# Set up Django environment\n",
    "os.chdir(\"..\")\n",
    "os.environ.setdefault('DJANGO_SETTINGS_MODULE', 'gymcrowd.settings')\n",
    "os.environ[\"DJANGO_ALLOW_ASYNC_UNSAFE\"] = \"true\" \n",
    "django.setup()\n"
   ]
  },
  {
   "cell_type": "code",
   "execution_count": null,
   "metadata": {},
   "outputs": [],
   "source": [
    "# Import models\n",
    "from apps.workouts.models import Exercise\n"
   ]
  },
  {
   "cell_type": "code",
   "execution_count": null,
   "metadata": {},
   "outputs": [],
   "source": [
    "# Load JSON data into a pandas DataFrame\n",
    "json_file_path = 'scripts/exercises.json'\n",
    "\n",
    "with open(json_file_path, 'r') as f:\n",
    "    exercise_data = json.load(f)\n",
    "\n",
    "# Convert JSON data to pandas DataFrame\n",
    "df = pd.DataFrame(exercise_data)\n",
    "print(f\"Loaded {len(df)} exercises from the JSON file.\")\n",
    "df.head()  # Display the first few rows for verification\n"
   ]
  },
  {
   "cell_type": "code",
   "execution_count": null,
   "metadata": {},
   "outputs": [],
   "source": [
    "# Transform data for secondary muscles and instructions\n",
    "df['secondaryMuscles'] = df['secondaryMuscles'].apply(lambda x: \", \".join(x) if isinstance(x, list) else \"\")\n",
    "df['instructions'] = df['instructions'].apply(lambda x: \" \".join(x) if isinstance(x, list) else \"\")\n",
    "df.head()  # Check transformed data\n"
   ]
  },
  {
   "cell_type": "code",
   "execution_count": null,
   "metadata": {},
   "outputs": [],
   "source": [
    "# Fetch existing exercises from the database\n",
    "existing_exercises = set(Exercise.objects.values_list('name', flat=True))\n",
    "\n",
    "# Split data into new and existing records\n",
    "df_existing = df[df['name'].isin(existing_exercises)]\n",
    "df_new = df[~df['name'].isin(existing_exercises)]\n",
    "\n",
    "print(f\"Existing exercises: {len(df_existing)}\")\n",
    "print(f\"New exercises: {len(df_new)}\")\n"
   ]
  },
  {
   "cell_type": "code",
   "execution_count": null,
   "metadata": {},
   "outputs": [],
   "source": [
    "# Update existing records\n",
    "for _, row in df_existing.iterrows():\n",
    "    Exercise.objects.filter(name=row['name']).update(\n",
    "        body_part=row['bodyPart'],\n",
    "        equipment=row['equipment'],\n",
    "        gif_url=row['gifUrl'],\n",
    "        target=row['target'],\n",
    "        secondary_muscles=row['secondaryMuscles'],\n",
    "        instructions=row['instructions'],\n",
    "    )\n",
    "print(\"Updated existing records.\")\n"
   ]
  },
  {
   "cell_type": "code",
   "execution_count": null,
   "metadata": {},
   "outputs": [],
   "source": [
    "# Bulk insert new records\n",
    "new_records = [\n",
    "    Exercise(\n",
    "        name=row['name'],\n",
    "        body_part=row['bodyPart'],\n",
    "        equipment=row['equipment'],\n",
    "        gif_url=row['gifUrl'],\n",
    "        target=row['target'],\n",
    "        secondary_muscles=row['secondaryMuscles'],\n",
    "        instructions=row['instructions'],\n",
    "    )\n",
    "    for _, row in df_new.iterrows()\n",
    "]\n",
    "Exercise.objects.bulk_create(new_records, batch_size=500)\n",
    "\n",
    "print(f\"Inserted {len(new_records)} new records.\")\n"
   ]
  },
  {
   "cell_type": "code",
   "execution_count": null,
   "metadata": {},
   "outputs": [],
   "source": [
    "# Verify the database content\n",
    "total_exercises = Exercise.objects.count()\n",
    "print(f\"Total exercises in the database: {total_exercises}\")\n",
    "\n",
    "# Display some records from the database\n",
    "Exercise.objects.all()[:5]  # Display the first 5 records\n"
   ]
  }
 ],
 "metadata": {
  "kernelspec": {
   "display_name": "venv",
   "language": "python",
   "name": "python3"
  },
  "language_info": {
   "codemirror_mode": {
    "name": "ipython",
    "version": 3
   },
   "file_extension": ".py",
   "mimetype": "text/x-python",
   "name": "python",
   "nbconvert_exporter": "python",
   "pygments_lexer": "ipython3",
   "version": "3.12.4"
  },
  "orig_nbformat": 4
 },
 "nbformat": 4,
 "nbformat_minor": 2
}
