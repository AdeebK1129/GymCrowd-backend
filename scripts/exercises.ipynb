{
 "cells": [
  {
   "cell_type": "code",
   "execution_count": 1,
   "metadata": {},
   "outputs": [],
   "source": [
    "# Import necessary libraries\n",
    "import os\n",
    "import django\n",
    "import pandas as pd\n",
    "import json"
   ]
  },
  {
   "cell_type": "code",
   "execution_count": 2,
   "metadata": {},
   "outputs": [],
   "source": [
    "# Set up Django environment\n",
    "os.chdir(\"..\")\n",
    "os.environ.setdefault('DJANGO_SETTINGS_MODULE', 'gymcrowd.settings')\n",
    "os.environ[\"DJANGO_ALLOW_ASYNC_UNSAFE\"] = \"true\" \n",
    "django.setup()\n"
   ]
  },
  {
   "cell_type": "code",
   "execution_count": 3,
   "metadata": {},
   "outputs": [],
   "source": [
    "# Import models\n",
    "from apps.workouts.models import Exercise\n"
   ]
  },
  {
   "cell_type": "code",
   "execution_count": 6,
   "metadata": {},
   "outputs": [
    {
     "name": "stdout",
     "output_type": "stream",
     "text": [
      "Loaded 1324 exercises from the JSON file.\n"
     ]
    },
    {
     "data": {
      "text/html": [
       "<div>\n",
       "<style scoped>\n",
       "    .dataframe tbody tr th:only-of-type {\n",
       "        vertical-align: middle;\n",
       "    }\n",
       "\n",
       "    .dataframe tbody tr th {\n",
       "        vertical-align: top;\n",
       "    }\n",
       "\n",
       "    .dataframe thead th {\n",
       "        text-align: right;\n",
       "    }\n",
       "</style>\n",
       "<table border=\"1\" class=\"dataframe\">\n",
       "  <thead>\n",
       "    <tr style=\"text-align: right;\">\n",
       "      <th></th>\n",
       "      <th>bodyPart</th>\n",
       "      <th>equipment</th>\n",
       "      <th>gifUrl</th>\n",
       "      <th>id</th>\n",
       "      <th>name</th>\n",
       "      <th>target</th>\n",
       "      <th>secondaryMuscles</th>\n",
       "      <th>instructions</th>\n",
       "    </tr>\n",
       "  </thead>\n",
       "  <tbody>\n",
       "    <tr>\n",
       "      <th>0</th>\n",
       "      <td>waist</td>\n",
       "      <td>body weight</td>\n",
       "      <td>https://v2.exercisedb.io/image/ogjzsJ3u4sUljM</td>\n",
       "      <td>0001</td>\n",
       "      <td>3/4 sit-up</td>\n",
       "      <td>abs</td>\n",
       "      <td>[hip flexors, lower back]</td>\n",
       "      <td>[Lie flat on your back with your knees bent an...</td>\n",
       "    </tr>\n",
       "    <tr>\n",
       "      <th>1</th>\n",
       "      <td>waist</td>\n",
       "      <td>body weight</td>\n",
       "      <td>https://v2.exercisedb.io/image/Lg7bSGP4-8PzGd</td>\n",
       "      <td>0002</td>\n",
       "      <td>45° side bend</td>\n",
       "      <td>abs</td>\n",
       "      <td>[obliques]</td>\n",
       "      <td>[Stand with your feet shoulder-width apart and...</td>\n",
       "    </tr>\n",
       "    <tr>\n",
       "      <th>2</th>\n",
       "      <td>waist</td>\n",
       "      <td>body weight</td>\n",
       "      <td>https://v2.exercisedb.io/image/Izy-UV0PspQK87</td>\n",
       "      <td>0003</td>\n",
       "      <td>air bike</td>\n",
       "      <td>abs</td>\n",
       "      <td>[hip flexors]</td>\n",
       "      <td>[Lie flat on your back with your hands placed ...</td>\n",
       "    </tr>\n",
       "    <tr>\n",
       "      <th>3</th>\n",
       "      <td>upper legs</td>\n",
       "      <td>body weight</td>\n",
       "      <td>https://v2.exercisedb.io/image/umGVOCitxmf4mP</td>\n",
       "      <td>1512</td>\n",
       "      <td>all fours squad stretch</td>\n",
       "      <td>quads</td>\n",
       "      <td>[hamstrings, glutes]</td>\n",
       "      <td>[Start on all fours with your hands directly u...</td>\n",
       "    </tr>\n",
       "    <tr>\n",
       "      <th>4</th>\n",
       "      <td>waist</td>\n",
       "      <td>body weight</td>\n",
       "      <td>https://v2.exercisedb.io/image/7XA7D-w2bmpgsk</td>\n",
       "      <td>0006</td>\n",
       "      <td>alternate heel touchers</td>\n",
       "      <td>abs</td>\n",
       "      <td>[obliques]</td>\n",
       "      <td>[Lie flat on your back with your knees bent an...</td>\n",
       "    </tr>\n",
       "  </tbody>\n",
       "</table>\n",
       "</div>"
      ],
      "text/plain": [
       "     bodyPart    equipment                                         gifUrl  \\\n",
       "0       waist  body weight  https://v2.exercisedb.io/image/ogjzsJ3u4sUljM   \n",
       "1       waist  body weight  https://v2.exercisedb.io/image/Lg7bSGP4-8PzGd   \n",
       "2       waist  body weight  https://v2.exercisedb.io/image/Izy-UV0PspQK87   \n",
       "3  upper legs  body weight  https://v2.exercisedb.io/image/umGVOCitxmf4mP   \n",
       "4       waist  body weight  https://v2.exercisedb.io/image/7XA7D-w2bmpgsk   \n",
       "\n",
       "     id                     name target           secondaryMuscles  \\\n",
       "0  0001               3/4 sit-up    abs  [hip flexors, lower back]   \n",
       "1  0002            45° side bend    abs                 [obliques]   \n",
       "2  0003                 air bike    abs              [hip flexors]   \n",
       "3  1512  all fours squad stretch  quads       [hamstrings, glutes]   \n",
       "4  0006  alternate heel touchers    abs                 [obliques]   \n",
       "\n",
       "                                        instructions  \n",
       "0  [Lie flat on your back with your knees bent an...  \n",
       "1  [Stand with your feet shoulder-width apart and...  \n",
       "2  [Lie flat on your back with your hands placed ...  \n",
       "3  [Start on all fours with your hands directly u...  \n",
       "4  [Lie flat on your back with your knees bent an...  "
      ]
     },
     "execution_count": 6,
     "metadata": {},
     "output_type": "execute_result"
    }
   ],
   "source": [
    "# Load JSON data into a pandas DataFrame\n",
    "json_file_path = 'scripts/exercises.json'\n",
    "\n",
    "with open(json_file_path, 'r') as f:\n",
    "    exercise_data = json.load(f)\n",
    "\n",
    "# Convert JSON data to pandas DataFrame\n",
    "df = pd.DataFrame(exercise_data)\n",
    "print(f\"Loaded {len(df)} exercises from the JSON file.\")\n",
    "df.head()  # Display the first few rows for verification\n"
   ]
  },
  {
   "cell_type": "code",
   "execution_count": 7,
   "metadata": {},
   "outputs": [
    {
     "data": {
      "text/html": [
       "<div>\n",
       "<style scoped>\n",
       "    .dataframe tbody tr th:only-of-type {\n",
       "        vertical-align: middle;\n",
       "    }\n",
       "\n",
       "    .dataframe tbody tr th {\n",
       "        vertical-align: top;\n",
       "    }\n",
       "\n",
       "    .dataframe thead th {\n",
       "        text-align: right;\n",
       "    }\n",
       "</style>\n",
       "<table border=\"1\" class=\"dataframe\">\n",
       "  <thead>\n",
       "    <tr style=\"text-align: right;\">\n",
       "      <th></th>\n",
       "      <th>bodyPart</th>\n",
       "      <th>equipment</th>\n",
       "      <th>gifUrl</th>\n",
       "      <th>id</th>\n",
       "      <th>name</th>\n",
       "      <th>target</th>\n",
       "      <th>secondaryMuscles</th>\n",
       "      <th>instructions</th>\n",
       "    </tr>\n",
       "  </thead>\n",
       "  <tbody>\n",
       "    <tr>\n",
       "      <th>0</th>\n",
       "      <td>waist</td>\n",
       "      <td>body weight</td>\n",
       "      <td>https://v2.exercisedb.io/image/ogjzsJ3u4sUljM</td>\n",
       "      <td>0001</td>\n",
       "      <td>3/4 sit-up</td>\n",
       "      <td>abs</td>\n",
       "      <td>hip flexors, lower back</td>\n",
       "      <td>Lie flat on your back with your knees bent and...</td>\n",
       "    </tr>\n",
       "    <tr>\n",
       "      <th>1</th>\n",
       "      <td>waist</td>\n",
       "      <td>body weight</td>\n",
       "      <td>https://v2.exercisedb.io/image/Lg7bSGP4-8PzGd</td>\n",
       "      <td>0002</td>\n",
       "      <td>45° side bend</td>\n",
       "      <td>abs</td>\n",
       "      <td>obliques</td>\n",
       "      <td>Stand with your feet shoulder-width apart and ...</td>\n",
       "    </tr>\n",
       "    <tr>\n",
       "      <th>2</th>\n",
       "      <td>waist</td>\n",
       "      <td>body weight</td>\n",
       "      <td>https://v2.exercisedb.io/image/Izy-UV0PspQK87</td>\n",
       "      <td>0003</td>\n",
       "      <td>air bike</td>\n",
       "      <td>abs</td>\n",
       "      <td>hip flexors</td>\n",
       "      <td>Lie flat on your back with your hands placed b...</td>\n",
       "    </tr>\n",
       "    <tr>\n",
       "      <th>3</th>\n",
       "      <td>upper legs</td>\n",
       "      <td>body weight</td>\n",
       "      <td>https://v2.exercisedb.io/image/umGVOCitxmf4mP</td>\n",
       "      <td>1512</td>\n",
       "      <td>all fours squad stretch</td>\n",
       "      <td>quads</td>\n",
       "      <td>hamstrings, glutes</td>\n",
       "      <td>Start on all fours with your hands directly un...</td>\n",
       "    </tr>\n",
       "    <tr>\n",
       "      <th>4</th>\n",
       "      <td>waist</td>\n",
       "      <td>body weight</td>\n",
       "      <td>https://v2.exercisedb.io/image/7XA7D-w2bmpgsk</td>\n",
       "      <td>0006</td>\n",
       "      <td>alternate heel touchers</td>\n",
       "      <td>abs</td>\n",
       "      <td>obliques</td>\n",
       "      <td>Lie flat on your back with your knees bent and...</td>\n",
       "    </tr>\n",
       "  </tbody>\n",
       "</table>\n",
       "</div>"
      ],
      "text/plain": [
       "     bodyPart    equipment                                         gifUrl  \\\n",
       "0       waist  body weight  https://v2.exercisedb.io/image/ogjzsJ3u4sUljM   \n",
       "1       waist  body weight  https://v2.exercisedb.io/image/Lg7bSGP4-8PzGd   \n",
       "2       waist  body weight  https://v2.exercisedb.io/image/Izy-UV0PspQK87   \n",
       "3  upper legs  body weight  https://v2.exercisedb.io/image/umGVOCitxmf4mP   \n",
       "4       waist  body weight  https://v2.exercisedb.io/image/7XA7D-w2bmpgsk   \n",
       "\n",
       "     id                     name target         secondaryMuscles  \\\n",
       "0  0001               3/4 sit-up    abs  hip flexors, lower back   \n",
       "1  0002            45° side bend    abs                 obliques   \n",
       "2  0003                 air bike    abs              hip flexors   \n",
       "3  1512  all fours squad stretch  quads       hamstrings, glutes   \n",
       "4  0006  alternate heel touchers    abs                 obliques   \n",
       "\n",
       "                                        instructions  \n",
       "0  Lie flat on your back with your knees bent and...  \n",
       "1  Stand with your feet shoulder-width apart and ...  \n",
       "2  Lie flat on your back with your hands placed b...  \n",
       "3  Start on all fours with your hands directly un...  \n",
       "4  Lie flat on your back with your knees bent and...  "
      ]
     },
     "execution_count": 7,
     "metadata": {},
     "output_type": "execute_result"
    }
   ],
   "source": [
    "# Transform data for secondary muscles and instructions\n",
    "df['secondaryMuscles'] = df['secondaryMuscles'].apply(lambda x: \", \".join(x) if isinstance(x, list) else \"\")\n",
    "df['instructions'] = df['instructions'].apply(lambda x: \" \".join(x) if isinstance(x, list) else \"\")\n",
    "df.head()  # Check transformed data\n"
   ]
  },
  {
   "cell_type": "code",
   "execution_count": 8,
   "metadata": {},
   "outputs": [
    {
     "name": "stdout",
     "output_type": "stream",
     "text": [
      "Existing exercises: 0\n",
      "New exercises: 1324\n"
     ]
    }
   ],
   "source": [
    "# Fetch existing exercises from the database\n",
    "existing_exercises = set(Exercise.objects.values_list('name', flat=True))\n",
    "\n",
    "# Split data into new and existing records\n",
    "df_existing = df[df['name'].isin(existing_exercises)]\n",
    "df_new = df[~df['name'].isin(existing_exercises)]\n",
    "\n",
    "print(f\"Existing exercises: {len(df_existing)}\")\n",
    "print(f\"New exercises: {len(df_new)}\")\n"
   ]
  },
  {
   "cell_type": "code",
   "execution_count": 9,
   "metadata": {},
   "outputs": [
    {
     "name": "stdout",
     "output_type": "stream",
     "text": [
      "Updated existing records.\n"
     ]
    }
   ],
   "source": [
    "# Update existing records\n",
    "for _, row in df_existing.iterrows():\n",
    "    Exercise.objects.filter(name=row['name']).update(\n",
    "        body_part=row['bodyPart'],\n",
    "        equipment=row['equipment'],\n",
    "        gif_url=row['gifUrl'],\n",
    "        target=row['target'],\n",
    "        secondary_muscles=row['secondaryMuscles'],\n",
    "        instructions=row['instructions'],\n",
    "    )\n",
    "print(\"Updated existing records.\")\n"
   ]
  },
  {
   "cell_type": "code",
   "execution_count": 10,
   "metadata": {},
   "outputs": [
    {
     "name": "stdout",
     "output_type": "stream",
     "text": [
      "Inserted 1324 new records.\n"
     ]
    }
   ],
   "source": [
    "# Bulk insert new records\n",
    "new_records = [\n",
    "    Exercise(\n",
    "        name=row['name'],\n",
    "        body_part=row['bodyPart'],\n",
    "        equipment=row['equipment'],\n",
    "        gif_url=row['gifUrl'],\n",
    "        target=row['target'],\n",
    "        secondary_muscles=row['secondaryMuscles'],\n",
    "        instructions=row['instructions'],\n",
    "    )\n",
    "    for _, row in df_new.iterrows()\n",
    "]\n",
    "Exercise.objects.bulk_create(new_records, batch_size=500)\n",
    "\n",
    "print(f\"Inserted {len(new_records)} new records.\")\n"
   ]
  },
  {
   "cell_type": "code",
   "execution_count": 11,
   "metadata": {},
   "outputs": [
    {
     "name": "stdout",
     "output_type": "stream",
     "text": [
      "Total exercises in the database: 1324\n"
     ]
    },
    {
     "data": {
      "text/plain": [
       "<QuerySet [<Exercise: 3/4 sit-up>, <Exercise: 45° side bend>, <Exercise: air bike>, <Exercise: all fours squad stretch>, <Exercise: alternate heel touchers>]>"
      ]
     },
     "execution_count": 11,
     "metadata": {},
     "output_type": "execute_result"
    }
   ],
   "source": [
    "# Verify the database content\n",
    "total_exercises = Exercise.objects.count()\n",
    "print(f\"Total exercises in the database: {total_exercises}\")\n",
    "\n",
    "# Display some records from the database\n",
    "Exercise.objects.all()[:5]  # Display the first 5 records\n"
   ]
  }
 ],
 "metadata": {
  "kernelspec": {
   "display_name": "venv",
   "language": "python",
   "name": "python3"
  },
  "language_info": {
   "codemirror_mode": {
    "name": "ipython",
    "version": 3
   },
   "file_extension": ".py",
   "mimetype": "text/x-python",
   "name": "python",
   "nbconvert_exporter": "python",
   "pygments_lexer": "ipython3",
   "version": "3.12.4"
  },
  "orig_nbformat": 4
 },
 "nbformat": 4,
 "nbformat_minor": 2
}
